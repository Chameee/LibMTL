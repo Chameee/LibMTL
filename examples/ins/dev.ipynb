{
 "cells": [
  {
   "cell_type": "code",
   "execution_count": 16,
   "metadata": {
    "collapsed": true
   },
   "outputs": [],
   "source": [
    "import pandas as pd\n"
   ]
  },
  {
   "cell_type": "code",
   "execution_count": 17,
   "outputs": [
    {
     "name": "stderr",
     "output_type": "stream",
     "text": [
      "/var/folders/5f/2zpd95210tn82v1fcvwp80080000gp/T/ipykernel_30044/4212880746.py:1: DtypeWarning: Columns (9) have mixed types. Specify dtype option on import or set low_memory=False.\n",
      "  data = pd.read_csv('./data_txt/acceptance_decision_decisionreputation_postrep_performance_0322.csv')\n"
     ]
    }
   ],
   "source": [
    "data = pd.read_csv('./data_txt/acceptance_decision_decisionreputation_postrep_performance_0322.csv')"
   ],
   "metadata": {
    "collapsed": false,
    "pycharm": {
     "name": "#%%\n"
    }
   }
  },
  {
   "cell_type": "code",
   "execution_count": 18,
   "outputs": [],
   "source": [
    "data.drop(columns=['Unnamed: 0.1', 'Unnamed: 0'], inplace=True)"
   ],
   "metadata": {
    "collapsed": false,
    "pycharm": {
     "name": "#%%\n"
    }
   }
  },
  {
   "cell_type": "code",
   "execution_count": 19,
   "outputs": [],
   "source": [
    "data.fillna(0,inplace=True)"
   ],
   "metadata": {
    "collapsed": false,
    "pycharm": {
     "name": "#%%\n"
    }
   }
  },
  {
   "cell_type": "code",
   "execution_count": 20,
   "outputs": [
    {
     "data": {
      "text/plain": "       instagram_name                influencer_name   \n0                   0         aicha.tchadjobo@gmx.de  \\\n1                   0         aicha.tchadjobo@gmx.de   \n2           aicha_tch         aicha.tchadjobo@gmx.de   \n3                   0         aicha.tchadjobo@gmx.de   \n4                   0         aicha.tchadjobo@gmx.de   \n...               ...                            ...   \n395936              0   hirzingerchristina@gmail.com   \n395937              0  info@catchit-visualdesign.com   \n395938              0       hypnoticcity@hotmail.com   \n395939              0           ilayatug23@gmail.com   \n395940              0                icyliebe@gmx.at   \n\n                                email      status country_x phone_number   \n0              aicha.tchadjobo@gmx.de     INVITED         0            0  \\\n1              aicha.tchadjobo@gmx.de     INVITED         0            0   \n2              aicha.tchadjobo@gmx.de  REGISTERED   Germany  01631561516   \n3              aicha.tchadjobo@gmx.de     INVITED         0            0   \n4              aicha.tchadjobo@gmx.de     INVITED         0            0   \n...                               ...         ...       ...          ...   \n395936   hirzingerchristina@gmail.com     INVITED         0            0   \n395937  info@catchit-visualdesign.com     INVITED         0            0   \n395938       hypnoticcity@hotmail.com     INVITED         0            0   \n395939           ilayatug23@gmail.com     INVITED         0            0   \n395940                icyliebe@gmx.at     INVITED         0            0   \n\n       voucher_code gift_voucher_code   \n0                 0                 0  \\\n1                 0                 0   \n2           15aicha                 0   \n3                 0                 0   \n4                 0                 0   \n...             ...               ...   \n395936            0                 0   \n395937            0                 0   \n395938            0                 0   \n395939            0                 0   \n395940            0                 0   \n\n                                                 products   \n0                                                       0  \\\n1                                                       0   \n2       Magnetic Ring Mount Golden Tie Dye | Fashion C...   \n3                                                       0   \n4                                                       0   \n...                                                   ...   \n395936                                                  0   \n395937                                                  0   \n395938                                                  0   \n395939                                                  0   \n395940                                                  0   \n\n        instagram_followers  ...  profilename_cleaned_performance  yearmonth   \n0                       0.0  ...                                0        0.0  \\\n1                       0.0  ...                                0        0.0   \n2                    3185.0  ...                        aicha_tch   202112.0   \n3                       0.0  ...                                0        0.0   \n4                       0.0  ...                                0        0.0   \n...                     ...  ...                              ...        ...   \n395936                  0.0  ...                                0        0.0   \n395937                  0.0  ...                                0        0.0   \n395938                  0.0  ...                                0        0.0   \n395939                  0.0  ...                                0        0.0   \n395940                  0.0  ...                                0        0.0   \n\n       next_yearmonth next_2yearmonth Orders_Total  Revenue New Customers   \n0                 0.0             0.0          0.0      0.0           0.0  \\\n1                 0.0             0.0          0.0      0.0           0.0   \n2            202201.0        202202.0         37.0  12049.0           0.0   \n3                 0.0             0.0          0.0      0.0           0.0   \n4                 0.0             0.0          0.0      0.0           0.0   \n...               ...             ...          ...      ...           ...   \n395936            0.0             0.0          0.0      0.0           0.0   \n395937            0.0             0.0          0.0      0.0           0.0   \n395938            0.0             0.0          0.0      0.0           0.0   \n395939            0.0             0.0          0.0      0.0           0.0   \n395940            0.0             0.0          0.0      0.0           0.0   \n\n       # Customers reputation_change follower_num  \n0              0.0               5.0          0.0  \n1              0.0               0.0          0.0  \n2              0.0              -9.0          0.0  \n3              0.0               2.0          0.0  \n4              0.0              11.0          0.0  \n...            ...               ...          ...  \n395936         0.0               0.0       2716.0  \n395937         0.0               0.0       3776.0  \n395938         0.0               0.0       1978.0  \n395939         0.0               0.0       1536.0  \n395940         0.0               5.0       1507.0  \n\n[395941 rows x 51 columns]",
      "text/html": "<div>\n<style scoped>\n    .dataframe tbody tr th:only-of-type {\n        vertical-align: middle;\n    }\n\n    .dataframe tbody tr th {\n        vertical-align: top;\n    }\n\n    .dataframe thead th {\n        text-align: right;\n    }\n</style>\n<table border=\"1\" class=\"dataframe\">\n  <thead>\n    <tr style=\"text-align: right;\">\n      <th></th>\n      <th>instagram_name</th>\n      <th>influencer_name</th>\n      <th>email</th>\n      <th>status</th>\n      <th>country_x</th>\n      <th>phone_number</th>\n      <th>voucher_code</th>\n      <th>gift_voucher_code</th>\n      <th>products</th>\n      <th>instagram_followers</th>\n      <th>...</th>\n      <th>profilename_cleaned_performance</th>\n      <th>yearmonth</th>\n      <th>next_yearmonth</th>\n      <th>next_2yearmonth</th>\n      <th>Orders_Total</th>\n      <th>Revenue</th>\n      <th>New Customers</th>\n      <th># Customers</th>\n      <th>reputation_change</th>\n      <th>follower_num</th>\n    </tr>\n  </thead>\n  <tbody>\n    <tr>\n      <th>0</th>\n      <td>0</td>\n      <td>aicha.tchadjobo@gmx.de</td>\n      <td>aicha.tchadjobo@gmx.de</td>\n      <td>INVITED</td>\n      <td>0</td>\n      <td>0</td>\n      <td>0</td>\n      <td>0</td>\n      <td>0</td>\n      <td>0.0</td>\n      <td>...</td>\n      <td>0</td>\n      <td>0.0</td>\n      <td>0.0</td>\n      <td>0.0</td>\n      <td>0.0</td>\n      <td>0.0</td>\n      <td>0.0</td>\n      <td>0.0</td>\n      <td>5.0</td>\n      <td>0.0</td>\n    </tr>\n    <tr>\n      <th>1</th>\n      <td>0</td>\n      <td>aicha.tchadjobo@gmx.de</td>\n      <td>aicha.tchadjobo@gmx.de</td>\n      <td>INVITED</td>\n      <td>0</td>\n      <td>0</td>\n      <td>0</td>\n      <td>0</td>\n      <td>0</td>\n      <td>0.0</td>\n      <td>...</td>\n      <td>0</td>\n      <td>0.0</td>\n      <td>0.0</td>\n      <td>0.0</td>\n      <td>0.0</td>\n      <td>0.0</td>\n      <td>0.0</td>\n      <td>0.0</td>\n      <td>0.0</td>\n      <td>0.0</td>\n    </tr>\n    <tr>\n      <th>2</th>\n      <td>aicha_tch</td>\n      <td>aicha.tchadjobo@gmx.de</td>\n      <td>aicha.tchadjobo@gmx.de</td>\n      <td>REGISTERED</td>\n      <td>Germany</td>\n      <td>01631561516</td>\n      <td>15aicha</td>\n      <td>0</td>\n      <td>Magnetic Ring Mount Golden Tie Dye | Fashion C...</td>\n      <td>3185.0</td>\n      <td>...</td>\n      <td>aicha_tch</td>\n      <td>202112.0</td>\n      <td>202201.0</td>\n      <td>202202.0</td>\n      <td>37.0</td>\n      <td>12049.0</td>\n      <td>0.0</td>\n      <td>0.0</td>\n      <td>-9.0</td>\n      <td>0.0</td>\n    </tr>\n    <tr>\n      <th>3</th>\n      <td>0</td>\n      <td>aicha.tchadjobo@gmx.de</td>\n      <td>aicha.tchadjobo@gmx.de</td>\n      <td>INVITED</td>\n      <td>0</td>\n      <td>0</td>\n      <td>0</td>\n      <td>0</td>\n      <td>0</td>\n      <td>0.0</td>\n      <td>...</td>\n      <td>0</td>\n      <td>0.0</td>\n      <td>0.0</td>\n      <td>0.0</td>\n      <td>0.0</td>\n      <td>0.0</td>\n      <td>0.0</td>\n      <td>0.0</td>\n      <td>2.0</td>\n      <td>0.0</td>\n    </tr>\n    <tr>\n      <th>4</th>\n      <td>0</td>\n      <td>aicha.tchadjobo@gmx.de</td>\n      <td>aicha.tchadjobo@gmx.de</td>\n      <td>INVITED</td>\n      <td>0</td>\n      <td>0</td>\n      <td>0</td>\n      <td>0</td>\n      <td>0</td>\n      <td>0.0</td>\n      <td>...</td>\n      <td>0</td>\n      <td>0.0</td>\n      <td>0.0</td>\n      <td>0.0</td>\n      <td>0.0</td>\n      <td>0.0</td>\n      <td>0.0</td>\n      <td>0.0</td>\n      <td>11.0</td>\n      <td>0.0</td>\n    </tr>\n    <tr>\n      <th>...</th>\n      <td>...</td>\n      <td>...</td>\n      <td>...</td>\n      <td>...</td>\n      <td>...</td>\n      <td>...</td>\n      <td>...</td>\n      <td>...</td>\n      <td>...</td>\n      <td>...</td>\n      <td>...</td>\n      <td>...</td>\n      <td>...</td>\n      <td>...</td>\n      <td>...</td>\n      <td>...</td>\n      <td>...</td>\n      <td>...</td>\n      <td>...</td>\n      <td>...</td>\n      <td>...</td>\n    </tr>\n    <tr>\n      <th>395936</th>\n      <td>0</td>\n      <td>hirzingerchristina@gmail.com</td>\n      <td>hirzingerchristina@gmail.com</td>\n      <td>INVITED</td>\n      <td>0</td>\n      <td>0</td>\n      <td>0</td>\n      <td>0</td>\n      <td>0</td>\n      <td>0.0</td>\n      <td>...</td>\n      <td>0</td>\n      <td>0.0</td>\n      <td>0.0</td>\n      <td>0.0</td>\n      <td>0.0</td>\n      <td>0.0</td>\n      <td>0.0</td>\n      <td>0.0</td>\n      <td>0.0</td>\n      <td>2716.0</td>\n    </tr>\n    <tr>\n      <th>395937</th>\n      <td>0</td>\n      <td>info@catchit-visualdesign.com</td>\n      <td>info@catchit-visualdesign.com</td>\n      <td>INVITED</td>\n      <td>0</td>\n      <td>0</td>\n      <td>0</td>\n      <td>0</td>\n      <td>0</td>\n      <td>0.0</td>\n      <td>...</td>\n      <td>0</td>\n      <td>0.0</td>\n      <td>0.0</td>\n      <td>0.0</td>\n      <td>0.0</td>\n      <td>0.0</td>\n      <td>0.0</td>\n      <td>0.0</td>\n      <td>0.0</td>\n      <td>3776.0</td>\n    </tr>\n    <tr>\n      <th>395938</th>\n      <td>0</td>\n      <td>hypnoticcity@hotmail.com</td>\n      <td>hypnoticcity@hotmail.com</td>\n      <td>INVITED</td>\n      <td>0</td>\n      <td>0</td>\n      <td>0</td>\n      <td>0</td>\n      <td>0</td>\n      <td>0.0</td>\n      <td>...</td>\n      <td>0</td>\n      <td>0.0</td>\n      <td>0.0</td>\n      <td>0.0</td>\n      <td>0.0</td>\n      <td>0.0</td>\n      <td>0.0</td>\n      <td>0.0</td>\n      <td>0.0</td>\n      <td>1978.0</td>\n    </tr>\n    <tr>\n      <th>395939</th>\n      <td>0</td>\n      <td>ilayatug23@gmail.com</td>\n      <td>ilayatug23@gmail.com</td>\n      <td>INVITED</td>\n      <td>0</td>\n      <td>0</td>\n      <td>0</td>\n      <td>0</td>\n      <td>0</td>\n      <td>0.0</td>\n      <td>...</td>\n      <td>0</td>\n      <td>0.0</td>\n      <td>0.0</td>\n      <td>0.0</td>\n      <td>0.0</td>\n      <td>0.0</td>\n      <td>0.0</td>\n      <td>0.0</td>\n      <td>0.0</td>\n      <td>1536.0</td>\n    </tr>\n    <tr>\n      <th>395940</th>\n      <td>0</td>\n      <td>icyliebe@gmx.at</td>\n      <td>icyliebe@gmx.at</td>\n      <td>INVITED</td>\n      <td>0</td>\n      <td>0</td>\n      <td>0</td>\n      <td>0</td>\n      <td>0</td>\n      <td>0.0</td>\n      <td>...</td>\n      <td>0</td>\n      <td>0.0</td>\n      <td>0.0</td>\n      <td>0.0</td>\n      <td>0.0</td>\n      <td>0.0</td>\n      <td>0.0</td>\n      <td>0.0</td>\n      <td>5.0</td>\n      <td>1507.0</td>\n    </tr>\n  </tbody>\n</table>\n<p>395941 rows × 51 columns</p>\n</div>"
     },
     "execution_count": 20,
     "metadata": {},
     "output_type": "execute_result"
    }
   ],
   "source": [
    "data"
   ],
   "metadata": {
    "collapsed": false,
    "pycharm": {
     "name": "#%%\n"
    }
   }
  },
  {
   "cell_type": "code",
   "execution_count": 14,
   "outputs": [
    {
     "data": {
      "text/plain": "array(['michelle.zv', 'Michelle Zemskov', 'michelle.zemskov@web.de',\n       'REGISTERED', 'Germany', '01771940887', 'Michelle-10', 0,\n       'Active Bag Victory Khaki | Seamless Case iPhone 11 Ash Grey',\n       1500.0, 20220801, 20220807, '116_20220801_20220807',\n       'campaign_participants_DE - BOGO Summersale BEST PERFORMER Part 2_20220801_20220807.csv',\n       'Michelle.zv', '-', 'Before 2020', 'MICRO', 'Instagram', '-', 'DE',\n       'michelle.zemskov@web.de', 'Michelle.zv', 1.0, 'michelle.zv',\n       '2022-07-29', '2022-08-10', 0.0, 0.0, 0.0, 0.0, 0.0, 0.0, 0, 0,\n       0.0, 0.0, 0.0, 0.0, 0.0, 0.0, 'Michelle.zv', 202208.0, 202209.0,\n       202210.0, 0.0, 0.0, 0.0, 0.0, 0.0, 0.0], dtype=object)"
     },
     "execution_count": 14,
     "metadata": {},
     "output_type": "execute_result"
    }
   ],
   "source": [
    "data.iloc[100].to_numpy()"
   ],
   "metadata": {
    "collapsed": false,
    "pycharm": {
     "name": "#%%\n"
    }
   }
  },
  {
   "cell_type": "code",
   "execution_count": 15,
   "outputs": [
    {
     "name": "stderr",
     "output_type": "stream",
     "text": [
      "/var/folders/5f/2zpd95210tn82v1fcvwp80080000gp/T/ipykernel_30044/1730272681.py:1: DtypeWarning: Columns (0) have mixed types. Specify dtype option on import or set low_memory=False.\n",
      "  sponsor_brand_data = pd.read_csv('./data_txt/Sponsored_Branded_Total_Processed.csv')\n"
     ]
    }
   ],
   "source": [
    "sponsor_brand_data = pd.read_csv('./data_txt/Sponsored_Branded_Total_Processed.csv')\n"
   ],
   "metadata": {
    "collapsed": false,
    "pycharm": {
     "name": "#%%\n"
    }
   }
  },
  {
   "cell_type": "code",
   "execution_count": 35,
   "outputs": [],
   "source": [
    "import torch\n",
    "from torch.utils.data import DataLoader, Dataset\n",
    "class InfluencerBrandDataset(Dataset):\n",
    "    def __init__(self, csv_path):\n",
    "        self.data = pd.read_csv(csv_path, low_memory=False)\n",
    "        self.data.drop(columns=['Unnamed: 0.1', 'Unnamed: 0'], inplace=True)\n",
    "        self.data.fillna(0, inplace=True)\n",
    "\n",
    "    def __getitem__(self, idx):\n",
    "        if torch.is_tensor(idx):\n",
    "            idx = idx.tolist()\n",
    "        sample = self.data.iloc[idx].to_numpy()\n",
    "        return sample\n",
    "\n",
    "    def __len__(self):\n",
    "        return len(self.data)"
   ],
   "metadata": {
    "collapsed": false,
    "pycharm": {
     "name": "#%%\n"
    }
   }
  },
  {
   "cell_type": "code",
   "execution_count": 36,
   "outputs": [],
   "source": [
    "inf_dataset = InfluencerBrandDataset(csv_path='./data_txt/acceptance_decision_decisionreputation_postrep_performance_0322.csv')\n"
   ],
   "metadata": {
    "collapsed": false,
    "pycharm": {
     "name": "#%%\n"
    }
   }
  },
  {
   "cell_type": "code",
   "execution_count": 43,
   "outputs": [],
   "source": [
    "inf_dataloader = DataLoader(dataset=inf_dataset,batch_size=64)"
   ],
   "metadata": {
    "collapsed": false,
    "pycharm": {
     "name": "#%%\n"
    }
   }
  },
  {
   "cell_type": "code",
   "execution_count": 45,
   "outputs": [
    {
     "data": {
      "text/plain": "6187"
     },
     "execution_count": 45,
     "metadata": {},
     "output_type": "execute_result"
    }
   ],
   "source": [
    "len(inf_dataloader)"
   ],
   "metadata": {
    "collapsed": false,
    "pycharm": {
     "name": "#%%\n"
    }
   }
  },
  {
   "cell_type": "code",
   "execution_count": 46,
   "outputs": [
    {
     "data": {
      "text/plain": "395941"
     },
     "execution_count": 46,
     "metadata": {},
     "output_type": "execute_result"
    }
   ],
   "source": [
    "len(inf_dataset)\n"
   ],
   "metadata": {
    "collapsed": false,
    "pycharm": {
     "name": "#%%\n"
    }
   }
  },
  {
   "cell_type": "code",
   "execution_count": null,
   "outputs": [],
   "source": [],
   "metadata": {
    "collapsed": false,
    "pycharm": {
     "name": "#%%\n"
    }
   }
  }
 ],
 "metadata": {
  "kernelspec": {
   "display_name": "Python 3",
   "language": "python",
   "name": "python3"
  },
  "language_info": {
   "codemirror_mode": {
    "name": "ipython",
    "version": 2
   },
   "file_extension": ".py",
   "mimetype": "text/x-python",
   "name": "python",
   "nbconvert_exporter": "python",
   "pygments_lexer": "ipython2",
   "version": "2.7.6"
  }
 },
 "nbformat": 4,
 "nbformat_minor": 0
}